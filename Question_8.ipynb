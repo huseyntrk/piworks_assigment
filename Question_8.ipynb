{
 "cells": [
  {
   "cell_type": "code",
   "execution_count": 8,
   "id": "2bed6cf9-1d31-4d56-b5ee-17f188394e99",
   "metadata": {},
   "outputs": [],
   "source": [
    "import re"
   ]
  },
  {
   "cell_type": "code",
   "execution_count": 9,
   "id": "e5c95908-fa56-46cb-b479-c9e61bed3327",
   "metadata": {},
   "outputs": [],
   "source": [
    "stats_access_link = \"\"\"\n",
    "<url>https://asdasdasd.smart_meter.com</url>\n",
    "<url>http://as123213sdasd.smart_meter.com</url>\n",
    "\"\"\""
   ]
  },
  {
   "cell_type": "code",
   "execution_count": 10,
   "id": "3b42e772-85fe-4f52-9c2e-d9c96465125e",
   "metadata": {},
   "outputs": [],
   "source": [
    "result = re.findall(\"(?<=:\\/\\/)(.*)(?=<\\/url>)\", stats_access_link)"
   ]
  },
  {
   "cell_type": "code",
   "execution_count": 11,
   "id": "eb605add-5dd4-4c59-84e4-bba702518448",
   "metadata": {},
   "outputs": [
    {
     "name": "stdout",
     "output_type": "stream",
     "text": [
      "['asdasdasd.smart_meter.com', 'as123213sdasd.smart_meter.com']\n"
     ]
    }
   ],
   "source": [
    "print(result)"
   ]
  },
  {
   "cell_type": "code",
   "execution_count": null,
   "id": "d3e9386d-6d55-4589-93f8-8b1875307e7e",
   "metadata": {},
   "outputs": [],
   "source": []
  }
 ],
 "metadata": {
  "kernelspec": {
   "display_name": "Python 3",
   "language": "python",
   "name": "python3"
  },
  "language_info": {
   "codemirror_mode": {
    "name": "ipython",
    "version": 3
   },
   "file_extension": ".py",
   "mimetype": "text/x-python",
   "name": "python",
   "nbconvert_exporter": "python",
   "pygments_lexer": "ipython3",
   "version": "3.8.8"
  }
 },
 "nbformat": 4,
 "nbformat_minor": 5
}
