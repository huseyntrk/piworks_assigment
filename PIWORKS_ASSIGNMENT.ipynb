{
 "cells": [
  {
   "cell_type": "markdown",
   "id": "33702835-38b7-48ef-bbc7-fc3c384335d5",
   "metadata": {},
   "source": [
    "## Anwser of 4-5-6-7 question is in this code."
   ]
  },
  {
   "cell_type": "code",
   "execution_count": 2,
   "id": "933642d6-8812-4990-96b7-6ef57723cf82",
   "metadata": {},
   "outputs": [],
   "source": [
    "import pandas as pd"
   ]
  },
  {
   "cell_type": "code",
   "execution_count": 35,
   "id": "943202c7-68e7-4628-9e3f-5ac9fabd4131",
   "metadata": {},
   "outputs": [
    {
     "data": {
      "text/html": [
       "<div>\n",
       "<style scoped>\n",
       "    .dataframe tbody tr th:only-of-type {\n",
       "        vertical-align: middle;\n",
       "    }\n",
       "\n",
       "    .dataframe tbody tr th {\n",
       "        vertical-align: top;\n",
       "    }\n",
       "\n",
       "    .dataframe thead th {\n",
       "        text-align: right;\n",
       "    }\n",
       "</style>\n",
       "<table border=\"1\" class=\"dataframe\">\n",
       "  <thead>\n",
       "    <tr style=\"text-align: right;\">\n",
       "      <th></th>\n",
       "      <th>country</th>\n",
       "      <th>date</th>\n",
       "      <th>daily_vaccinations</th>\n",
       "      <th>vaccines</th>\n",
       "    </tr>\n",
       "  </thead>\n",
       "  <tbody>\n",
       "    <tr>\n",
       "      <th>0</th>\n",
       "      <td>Argentina</td>\n",
       "      <td>12/29/2020</td>\n",
       "      <td>NaN</td>\n",
       "      <td>Sputnik V</td>\n",
       "    </tr>\n",
       "    <tr>\n",
       "      <th>1</th>\n",
       "      <td>Argentina</td>\n",
       "      <td>12/30/2020</td>\n",
       "      <td>15656.0</td>\n",
       "      <td>Sputnik V</td>\n",
       "    </tr>\n",
       "    <tr>\n",
       "      <th>2</th>\n",
       "      <td>Argentina</td>\n",
       "      <td>12/31/2020</td>\n",
       "      <td>15656.0</td>\n",
       "      <td>Sputnik V</td>\n",
       "    </tr>\n",
       "    <tr>\n",
       "      <th>3</th>\n",
       "      <td>Argentina</td>\n",
       "      <td>1/1/2021</td>\n",
       "      <td>11070.0</td>\n",
       "      <td>Sputnik V</td>\n",
       "    </tr>\n",
       "    <tr>\n",
       "      <th>4</th>\n",
       "      <td>Argentina</td>\n",
       "      <td>1/2/2021</td>\n",
       "      <td>8776.0</td>\n",
       "      <td>Sputnik V</td>\n",
       "    </tr>\n",
       "  </tbody>\n",
       "</table>\n",
       "</div>"
      ],
      "text/plain": [
       "     country        date  daily_vaccinations   vaccines\n",
       "0  Argentina  12/29/2020                 NaN  Sputnik V\n",
       "1  Argentina  12/30/2020             15656.0  Sputnik V\n",
       "2  Argentina  12/31/2020             15656.0  Sputnik V\n",
       "3  Argentina    1/1/2021             11070.0  Sputnik V\n",
       "4  Argentina    1/2/2021              8776.0  Sputnik V"
      ]
     },
     "execution_count": 35,
     "metadata": {},
     "output_type": "execute_result"
    }
   ],
   "source": [
    "df = pd.read_csv(\"https://raw.githubusercontent.com/tarikkranda/pi_datasets/main/country_vaccination_stats.csv\");\n",
    "df.to_csv(\"./sqlberk.csv\",index = False)\n",
    "df.head()"
   ]
  },
  {
   "cell_type": "markdown",
   "id": "4d0be317-1478-4c88-8080-dee79a0fc911",
   "metadata": {},
   "source": [
    "### Anwser of Question 4"
   ]
  },
  {
   "cell_type": "code",
   "execution_count": 4,
   "id": "e827af87-9304-446c-8f20-49ce026a8f4d",
   "metadata": {},
   "outputs": [],
   "source": [
    "df[\"daily_vaccinations\"].fillna(0,inplace=True)"
   ]
  },
  {
   "cell_type": "code",
   "execution_count": 5,
   "id": "9cb38678-7dbe-4d13-9c5b-4b45f47c15f9",
   "metadata": {},
   "outputs": [
    {
     "data": {
      "text/html": [
       "<div>\n",
       "<style scoped>\n",
       "    .dataframe tbody tr th:only-of-type {\n",
       "        vertical-align: middle;\n",
       "    }\n",
       "\n",
       "    .dataframe tbody tr th {\n",
       "        vertical-align: top;\n",
       "    }\n",
       "\n",
       "    .dataframe thead th {\n",
       "        text-align: right;\n",
       "    }\n",
       "</style>\n",
       "<table border=\"1\" class=\"dataframe\">\n",
       "  <thead>\n",
       "    <tr style=\"text-align: right;\">\n",
       "      <th></th>\n",
       "      <th>country</th>\n",
       "      <th>date</th>\n",
       "      <th>daily_vaccinations</th>\n",
       "      <th>vaccines</th>\n",
       "    </tr>\n",
       "  </thead>\n",
       "  <tbody>\n",
       "  </tbody>\n",
       "</table>\n",
       "</div>"
      ],
      "text/plain": [
       "Empty DataFrame\n",
       "Columns: [country, date, daily_vaccinations, vaccines]\n",
       "Index: []"
      ]
     },
     "execution_count": 5,
     "metadata": {},
     "output_type": "execute_result"
    }
   ],
   "source": [
    "df[df[\"daily_vaccinations\"].isna()]"
   ]
  },
  {
   "cell_type": "code",
   "execution_count": 6,
   "id": "3ecc8c59-a074-46b5-bad7-aa0a28181d04",
   "metadata": {},
   "outputs": [
    {
     "data": {
      "text/html": [
       "<div>\n",
       "<style scoped>\n",
       "    .dataframe tbody tr th:only-of-type {\n",
       "        vertical-align: middle;\n",
       "    }\n",
       "\n",
       "    .dataframe tbody tr th {\n",
       "        vertical-align: top;\n",
       "    }\n",
       "\n",
       "    .dataframe thead th {\n",
       "        text-align: right;\n",
       "    }\n",
       "</style>\n",
       "<table border=\"1\" class=\"dataframe\">\n",
       "  <thead>\n",
       "    <tr style=\"text-align: right;\">\n",
       "      <th></th>\n",
       "      <th>country</th>\n",
       "      <th>date</th>\n",
       "      <th>daily_vaccinations</th>\n",
       "      <th>vaccines</th>\n",
       "    </tr>\n",
       "  </thead>\n",
       "  <tbody>\n",
       "    <tr>\n",
       "      <th>0</th>\n",
       "      <td>Argentina</td>\n",
       "      <td>12/29/2020</td>\n",
       "      <td>0.0</td>\n",
       "      <td>Sputnik V</td>\n",
       "    </tr>\n",
       "    <tr>\n",
       "      <th>1</th>\n",
       "      <td>Argentina</td>\n",
       "      <td>12/30/2020</td>\n",
       "      <td>15656.0</td>\n",
       "      <td>Sputnik V</td>\n",
       "    </tr>\n",
       "    <tr>\n",
       "      <th>2</th>\n",
       "      <td>Argentina</td>\n",
       "      <td>12/31/2020</td>\n",
       "      <td>15656.0</td>\n",
       "      <td>Sputnik V</td>\n",
       "    </tr>\n",
       "    <tr>\n",
       "      <th>3</th>\n",
       "      <td>Argentina</td>\n",
       "      <td>1/1/2021</td>\n",
       "      <td>11070.0</td>\n",
       "      <td>Sputnik V</td>\n",
       "    </tr>\n",
       "    <tr>\n",
       "      <th>4</th>\n",
       "      <td>Argentina</td>\n",
       "      <td>1/2/2021</td>\n",
       "      <td>8776.0</td>\n",
       "      <td>Sputnik V</td>\n",
       "    </tr>\n",
       "  </tbody>\n",
       "</table>\n",
       "</div>"
      ],
      "text/plain": [
       "     country        date  daily_vaccinations   vaccines\n",
       "0  Argentina  12/29/2020                 0.0  Sputnik V\n",
       "1  Argentina  12/30/2020             15656.0  Sputnik V\n",
       "2  Argentina  12/31/2020             15656.0  Sputnik V\n",
       "3  Argentina    1/1/2021             11070.0  Sputnik V\n",
       "4  Argentina    1/2/2021              8776.0  Sputnik V"
      ]
     },
     "execution_count": 6,
     "metadata": {},
     "output_type": "execute_result"
    }
   ],
   "source": [
    "df.head()"
   ]
  },
  {
   "cell_type": "code",
   "execution_count": 7,
   "id": "3270d808-ece7-4c5c-8371-aa64b7da34d2",
   "metadata": {},
   "outputs": [
    {
     "data": {
      "text/plain": [
       "Canada                  43\n",
       "Wales                   43\n",
       "Northern Ireland        43\n",
       "Scotland                43\n",
       "Israel                  38\n",
       "United States           37\n",
       "China                   37\n",
       "United Kingdom          36\n",
       "England                 36\n",
       "Mexico                  33\n",
       "Chile                   33\n",
       "Lithuania               32\n",
       "Italy                   30\n",
       "Czechia                 30\n",
       "Russia                  30\n",
       "Switzerland             30\n",
       "Denmark                 30\n",
       "Romania                 29\n",
       "Germany                 29\n",
       "Estonia                 29\n",
       "Norway                  29\n",
       "Latvia                  29\n",
       "Bahrain                 29\n",
       "Portugal                29\n",
       "Greece                  29\n",
       "Oman                    28\n",
       "Poland                  28\n",
       "Malta                   28\n",
       "Argentina               28\n",
       "Bulgaria                28\n",
       "Hungary                 28\n",
       "Croatia                 27\n",
       "Iceland                 27\n",
       "Luxembourg              26\n",
       "Costa Rica              26\n",
       "Finland                 26\n",
       "Belgium                 26\n",
       "Ireland                 25\n",
       "Slovenia                22\n",
       "Sweden                  22\n",
       "France                  22\n",
       "Spain                   22\n",
       "United Arab Emirates    21\n",
       "Austria                 20\n",
       "Serbia                  18\n",
       "Slovakia                18\n",
       "Cyprus                  17\n",
       "Netherlands             17\n",
       "Gibraltar               15\n",
       "Seychelles              15\n",
       "Indonesia               14\n",
       "Turkey                  13\n",
       "Singapore               12\n",
       "Saudi Arabia            12\n",
       "India                   11\n",
       "Brazil                  10\n",
       "Panama                   6\n",
       "Isle of Man              5\n",
       "Ecuador                  2\n",
       "Kuwait                   1\n",
       "Name: country, dtype: int64"
      ]
     },
     "execution_count": 7,
     "metadata": {},
     "output_type": "execute_result"
    }
   ],
   "source": [
    "df[\"country\"].value_counts()"
   ]
  },
  {
   "cell_type": "markdown",
   "id": "a8d40866-eadc-4ecb-996b-af18255ba4ff",
   "metadata": {},
   "source": [
    "### Answer Of Question 5"
   ]
  },
  {
   "cell_type": "code",
   "execution_count": 8,
   "id": "cf7588a8-03ca-4353-98f0-3e3361f9304c",
   "metadata": {},
   "outputs": [
    {
     "data": {
      "text/html": [
       "<div>\n",
       "<style scoped>\n",
       "    .dataframe tbody tr th:only-of-type {\n",
       "        vertical-align: middle;\n",
       "    }\n",
       "\n",
       "    .dataframe tbody tr th {\n",
       "        vertical-align: top;\n",
       "    }\n",
       "\n",
       "    .dataframe thead th {\n",
       "        text-align: right;\n",
       "    }\n",
       "</style>\n",
       "<table border=\"1\" class=\"dataframe\">\n",
       "  <thead>\n",
       "    <tr style=\"text-align: right;\">\n",
       "      <th></th>\n",
       "      <th>daily_vaccinations</th>\n",
       "    </tr>\n",
       "    <tr>\n",
       "      <th>country</th>\n",
       "      <th></th>\n",
       "    </tr>\n",
       "  </thead>\n",
       "  <tbody>\n",
       "    <tr>\n",
       "      <th>United States</th>\n",
       "      <td>378253.0</td>\n",
       "    </tr>\n",
       "    <tr>\n",
       "      <th>China</th>\n",
       "      <td>276786.0</td>\n",
       "    </tr>\n",
       "    <tr>\n",
       "      <th>India</th>\n",
       "      <td>173922.0</td>\n",
       "    </tr>\n",
       "  </tbody>\n",
       "</table>\n",
       "</div>"
      ],
      "text/plain": [
       "               daily_vaccinations\n",
       "country                          \n",
       "United States            378253.0\n",
       "China                    276786.0\n",
       "India                    173922.0"
      ]
     },
     "execution_count": 8,
     "metadata": {},
     "output_type": "execute_result"
    }
   ],
   "source": [
    "df.groupby(\"country\").median(\"daily_vaccinations\").sort_values(\"daily_vaccinations\",ascending=False).head(3)"
   ]
  },
  {
   "cell_type": "markdown",
   "id": "351b3c1b-403c-4424-9354-6726cf154737",
   "metadata": {},
   "source": [
    "## Answer of Question 6"
   ]
  },
  {
   "cell_type": "code",
   "execution_count": 9,
   "id": "79b27833-2ac8-4d65-adfd-4d1d2c0cb804",
   "metadata": {},
   "outputs": [
    {
     "data": {
      "text/plain": [
       "1466568.0"
      ]
     },
     "execution_count": 9,
     "metadata": {},
     "output_type": "execute_result"
    }
   ],
   "source": [
    "df[df[\"date\"]==\"1/6/2021\"][\"daily_vaccinations\"].sum()"
   ]
  },
  {
   "cell_type": "markdown",
   "id": "c3014249-d7f0-4b8f-9052-9bf8d8fdcc3b",
   "metadata": {},
   "source": [
    "### Answer Of Question 7"
   ]
  },
  {
   "cell_type": "markdown",
   "id": "2733e72a-3ef8-4c01-8ceb-bdc07a115745",
   "metadata": {},
   "source": [
    "```SQL\n",
    "UPDATE sqlwork  \n",
    "SET daily_vaccinations = sqlwork2.median_daily_vaccinations\n",
    "FROM sqlwork\n",
    "INNER JOIN (SELECT country, MEDIAN(daily_vaccinations) AS median_daily_vaccinations from sqlwork GROUP BY country) as sqlwork2 ON sqlwork.country = sqlwork2.country  \n",
    "WHERE IsNumeric(sqlwork.daily_vaccinations)=0;\n",
    "```"
   ]
  },
  {
   "cell_type": "markdown",
   "id": "847bdfbe-ea3b-4201-8c9a-d53bbf13102a",
   "metadata": {},
   "source": [
    "- It joins the table sqlwork and sqlwork2 on the same countries and update daily vaccinations values to sqlwork2s median values where Daily vaccinations are missing."
   ]
  },
  {
   "cell_type": "code",
   "execution_count": null,
   "id": "2a5000d1-d528-44f2-952e-033431f3c982",
   "metadata": {},
   "outputs": [],
   "source": []
  }
 ],
 "metadata": {
  "kernelspec": {
   "display_name": "Python 3",
   "language": "python",
   "name": "python3"
  },
  "language_info": {
   "codemirror_mode": {
    "name": "ipython",
    "version": 3
   },
   "file_extension": ".py",
   "mimetype": "text/x-python",
   "name": "python",
   "nbconvert_exporter": "python",
   "pygments_lexer": "ipython3",
   "version": "3.8.8"
  }
 },
 "nbformat": 4,
 "nbformat_minor": 5
}
